{
 "cells": [
  {
   "cell_type": "code",
   "execution_count": 1,
   "metadata": {},
   "outputs": [],
   "source": [
    "import seaborn as sns\n",
    "import pandas as pd\n",
    "import matplotlib.pyplot as plt\n",
    "import os\n",
    "os.chdir('..')"
   ]
  },
  {
   "cell_type": "markdown",
   "metadata": {},
   "source": [
    ">> ## A/B Hypothesis Testing"
   ]
  },
  {
   "cell_type": "code",
   "execution_count": 3,
   "metadata": {},
   "outputs": [
    {
     "name": "stderr",
     "output_type": "stream",
     "text": [
      "C:\\Users\\hanad\\AppData\\Local\\Temp\\ipykernel_28296\\2463053798.py:1: DtypeWarning: Columns (32,37) have mixed types. Specify dtype option on import or set low_memory=False.\n",
      "  insurance_data = pd.read_csv('./Data/MachineLearningRating_v3.txt',delimiter= \"|\")\n"
     ]
    }
   ],
   "source": [
    "insurance_data = pd.read_csv('./Data/MachineLearningRating_v3.txt',delimiter= \"|\")\n",
    "insurance_data['TotalClaims'] = pd.to_numeric(insurance_data['TotalClaims'],errors='coerce')\n"
   ]
  },
  {
   "cell_type": "code",
   "execution_count": 4,
   "metadata": {},
   "outputs": [],
   "source": [
    "from scripts.ab_hypothesis import ABhypothesisTesting\n"
   ]
  },
  {
   "cell_type": "markdown",
   "metadata": {},
   "source": [
    "There are not significant risk difference between Women and Men\n"
   ]
  },
  {
   "cell_type": "code",
   "execution_count": 5,
   "metadata": {},
   "outputs": [
    {
     "name": "stdout",
     "output_type": "stream",
     "text": [
      "T-statistic of Gender values Male and Female: -0.296353891400699\n",
      "P-value of Gender values Male and Female: 0.7669656471629474\n",
      "Fail to reject the null hypothesis: No significant difference between the groups.\n"
     ]
    }
   ],
   "source": [
    "ABhypothesisTesting(insurance_data,\"Gender\",\"Male\",\"Female\",\"TotalClaims\")"
   ]
  }
 ],
 "metadata": {
  "kernelspec": {
   "display_name": ".week3",
   "language": "python",
   "name": "python3"
  },
  "language_info": {
   "codemirror_mode": {
    "name": "ipython",
    "version": 3
   },
   "file_extension": ".py",
   "mimetype": "text/x-python",
   "name": "python",
   "nbconvert_exporter": "python",
   "pygments_lexer": "ipython3",
   "version": "3.11.2"
  }
 },
 "nbformat": 4,
 "nbformat_minor": 2
}
