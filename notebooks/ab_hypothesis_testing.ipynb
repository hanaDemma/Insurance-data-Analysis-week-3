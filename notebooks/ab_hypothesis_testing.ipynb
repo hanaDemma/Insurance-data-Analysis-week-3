{
 "cells": [
  {
   "cell_type": "code",
   "execution_count": 1,
   "metadata": {},
   "outputs": [],
   "source": [
    "import seaborn as sns\n",
    "import pandas as pd\n",
    "import matplotlib.pyplot as plt\n",
    "import os\n",
    "os.chdir('..')"
   ]
  },
  {
   "cell_type": "markdown",
   "metadata": {},
   "source": [
    ">> ## A/B Hypothesis Testing"
   ]
  },
  {
   "cell_type": "code",
   "execution_count": 2,
   "metadata": {},
   "outputs": [
    {
     "name": "stderr",
     "output_type": "stream",
     "text": [
      "C:\\Users\\hanad\\AppData\\Local\\Temp\\ipykernel_35740\\2463053798.py:1: DtypeWarning: Columns (32,37) have mixed types. Specify dtype option on import or set low_memory=False.\n",
      "  insurance_data = pd.read_csv('./Data/MachineLearningRating_v3.txt',delimiter= \"|\")\n"
     ]
    }
   ],
   "source": [
    "insurance_data = pd.read_csv('./Data/MachineLearningRating_v3.txt',delimiter= \"|\")\n",
    "insurance_data['TotalClaims'] = pd.to_numeric(insurance_data['TotalClaims'],errors='coerce')\n"
   ]
  },
  {
   "cell_type": "code",
   "execution_count": 3,
   "metadata": {},
   "outputs": [],
   "source": [
    "from scripts.ab_hypothesis import ABhypothesisTesting\n"
   ]
  },
  {
   "cell_type": "markdown",
   "metadata": {},
   "source": [
    "There are not significant risk difference between Women and Men\n"
   ]
  },
  {
   "cell_type": "code",
   "execution_count": 4,
   "metadata": {},
   "outputs": [
    {
     "name": "stdout",
     "output_type": "stream",
     "text": [
      "T-statistic of Gender values Male and Female: -0.296353891400699\n",
      "P-value of Gender values Male and Female: 0.7669656471629474\n",
      "Fail to reject the null hypothesis: No significant difference between the groups.\n"
     ]
    }
   ],
   "source": [
    "ABhypothesisTesting(insurance_data,\"Gender\",\"Male\",\"Female\",\"TotalClaims\")"
   ]
  },
  {
   "cell_type": "markdown",
   "metadata": {},
   "source": [
    "ABhypothesisTesting: This function uses an independent t-test to compare the means of two groups. "
   ]
  },
  {
   "cell_type": "code",
   "execution_count": 5,
   "metadata": {},
   "outputs": [
    {
     "name": "stdout",
     "output_type": "stream",
     "text": [
      "T-statistic of Gender values Male and Female: -0.296353891400699\n",
      "P-value of Gender values Male and Female: 0.7669656471629474\n",
      "Fail to reject the null hypothesis: No significant difference between the groups.\n"
     ]
    }
   ],
   "source": [
    "ABhypothesisTesting(insurance_data,\"Gender\",\"Male\",\"Female\",\"TotalClaims\")\n"
   ]
  },
  {
   "cell_type": "code",
   "execution_count": 6,
   "metadata": {},
   "outputs": [
    {
     "name": "stdout",
     "output_type": "stream",
     "text": [
      "T-statistic of Province values Gauteng and KwaZulu-Natal: -1.246201702257548\n",
      "P-value of Province values Gauteng and KwaZulu-Natal: 0.21269135333580674\n",
      "Fail to reject the null hypothesis: No significant difference between the groups.\n"
     ]
    }
   ],
   "source": [
    "ABhypothesisTesting(insurance_data,\"Province\",\"Gauteng\",\"KwaZulu-Natal\",\"TotalClaims\")\n"
   ]
  },
  {
   "cell_type": "code",
   "execution_count": 7,
   "metadata": {},
   "outputs": [
    {
     "name": "stdout",
     "output_type": "stream",
     "text": [
      "T-statistic of Province values Free State and Eastern Cape: -0.03336326844581763\n",
      "P-value of Province values Free State and Eastern Cape: 0.9733853724519406\n",
      "Fail to reject the null hypothesis: No significant difference between the groups.\n"
     ]
    }
   ],
   "source": [
    "ABhypothesisTesting(insurance_data,\"Province\",\"Free State\",\"Eastern Cape\",\"TotalClaims\")\n"
   ]
  },
  {
   "cell_type": "code",
   "execution_count": 8,
   "metadata": {},
   "outputs": [
    {
     "name": "stdout",
     "output_type": "stream",
     "text": [
      "T-statistic of Province values Free State and Limpopo: 0.11463552812191816\n",
      "P-value of Province values Free State and Limpopo: 0.9087360150228716\n",
      "Fail to reject the null hypothesis: No significant difference between the groups.\n"
     ]
    }
   ],
   "source": [
    "ABhypothesisTesting(insurance_data,\"Province\",\"Free State\",\"Limpopo\",\"TotalClaims\")\n"
   ]
  },
  {
   "cell_type": "code",
   "execution_count": 9,
   "metadata": {},
   "outputs": [],
   "source": [
    "from scripts.ab_hypothesis import hypothesis_test_difference_between_columns\n"
   ]
  },
  {
   "cell_type": "markdown",
   "metadata": {},
   "source": [
    "# There are no risk differences between zip codes \n",
    "hypothesis_test_difference_between_columns: This function uses ANOVA  to compare the means of multiple groups. ANOVA is suitable for comparing numerical data when you have more than two groups."
   ]
  },
  {
   "cell_type": "code",
   "execution_count": 10,
   "metadata": {},
   "outputs": [
    {
     "name": "stdout",
     "output_type": "stream",
     "text": [
      "T-statistic of PostalCode: 0.9419762214391849\n",
      "P-value of PostalCode: 0.8906511279164051\n",
      "Fail to reject the null hypothesis: No significant difference between the groups.\n"
     ]
    }
   ],
   "source": [
    "hypothesis_test_difference_between_columns(insurance_data,'TotalClaims','PostalCode')\n"
   ]
  },
  {
   "cell_type": "markdown",
   "metadata": {},
   "source": [
    "### There are no risk differences across provinces "
   ]
  },
  {
   "cell_type": "code",
   "execution_count": 11,
   "metadata": {},
   "outputs": [
    {
     "name": "stdout",
     "output_type": "stream",
     "text": [
      "T-statistic of Province: 5.8494137624076075\n",
      "P-value of Province: 1.6782057588675903e-07\n",
      "Reject the null hypothesis: There is a significant difference between the groups.\n"
     ]
    }
   ],
   "source": [
    "hypothesis_test_difference_between_columns(insurance_data,'TotalClaims','Province')\n",
    "\n"
   ]
  },
  {
   "cell_type": "markdown",
   "metadata": {},
   "source": [
    "### There are no significant margin (profit) difference between zip codes "
   ]
  },
  {
   "cell_type": "code",
   "execution_count": 12,
   "metadata": {},
   "outputs": [],
   "source": [
    "insurance_data['Margin'] = insurance_data['TotalPremium'] - insurance_data['TotalClaims']\n"
   ]
  },
  {
   "cell_type": "code",
   "execution_count": 13,
   "metadata": {},
   "outputs": [
    {
     "name": "stdout",
     "output_type": "stream",
     "text": [
      "T-statistic of PostalCode: 0.8707474893589263\n",
      "P-value of PostalCode: 0.9976859758015036\n",
      "Fail to reject the null hypothesis: No significant difference between the groups.\n"
     ]
    }
   ],
   "source": [
    "hypothesis_test_difference_between_columns(insurance_data,'Margin','PostalCode')\n"
   ]
  }
 ],
 "metadata": {
  "kernelspec": {
   "display_name": ".week3",
   "language": "python",
   "name": "python3"
  },
  "language_info": {
   "codemirror_mode": {
    "name": "ipython",
    "version": 3
   },
   "file_extension": ".py",
   "mimetype": "text/x-python",
   "name": "python",
   "nbconvert_exporter": "python",
   "pygments_lexer": "ipython3",
   "version": "3.11.2"
  }
 },
 "nbformat": 4,
 "nbformat_minor": 2
}
